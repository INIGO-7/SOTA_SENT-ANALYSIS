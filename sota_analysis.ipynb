{
 "cells": [
  {
   "cell_type": "markdown",
   "metadata": {},
   "source": [
    "# SOTA INVESTIGATION FOR SENTIMENT ANALYSIS"
   ]
  },
  {
   "cell_type": "markdown",
   "metadata": {},
   "source": [
    "## Load resources"
   ]
  },
  {
   "cell_type": "code",
   "execution_count": null,
   "metadata": {},
   "outputs": [],
   "source": [
    "from emotion_classifier import *\n",
    "import os"
   ]
  },
  {
   "cell_type": "code",
   "execution_count": 2,
   "metadata": {},
   "outputs": [],
   "source": [
    "with open(os.path.join(\"secrets\", \"credentials.txt\"), \"r\") as file:\n",
    "    for line in file.readlines():\n",
    "        key, value = line.split(\":\")\n",
    "\n",
    "        if key == \"huggingface\":\n",
    "            access_token = value"
   ]
  },
  {
   "cell_type": "markdown",
   "metadata": {},
   "source": [
    "## Execute experiments"
   ]
  },
  {
   "cell_type": "code",
   "execution_count": null,
   "metadata": {},
   "outputs": [],
   "source": [
    "available_datasets = list(DatasetHandler.DATASET_CONFIGS.keys())\n",
    "print(f\"The available datasets are: {available_datasets}\")"
   ]
  },
  {
   "cell_type": "code",
   "execution_count": null,
   "metadata": {},
   "outputs": [],
   "source": [
    "print(\"Available templates:\")\n",
    "PromptTemplate.TEMPLATES"
   ]
  },
  {
   "cell_type": "markdown",
   "metadata": {},
   "source": [
    "### GO_EMOTIONS"
   ]
  },
  {
   "cell_type": "code",
   "execution_count": 4,
   "metadata": {},
   "outputs": [],
   "source": [
    "dataset = DatasetHandler(\"go_emotions\", \"test\")"
   ]
  },
  {
   "cell_type": "code",
   "execution_count": null,
   "metadata": {},
   "outputs": [],
   "source": [
    "dataset.label2id"
   ]
  },
  {
   "cell_type": "markdown",
   "metadata": {},
   "source": [
    "RoBERTa Fine-tuned with go_emotions"
   ]
  },
  {
   "cell_type": "code",
   "execution_count": null,
   "metadata": {},
   "outputs": [],
   "source": [
    "# Transformers model evaluation\n",
    "model = TransformersStrategy(\"SamLowe/roberta-base-go_emotions\")\n",
    "classifier = EmotionClassifier(dataset, model)\n",
    "\n",
    "classifier.evaluate()\n",
    "_ = classifier.create_performance_report(print_report=True)"
   ]
  },
  {
   "cell_type": "markdown",
   "metadata": {},
   "source": [
    "Phi 3.5 mini quantized - ZERO SHOT"
   ]
  },
  {
   "cell_type": "code",
   "execution_count": 6,
   "metadata": {},
   "outputs": [],
   "source": [
    "system_prompt = f\"\"\"\n",
    "You are an assistant that classifies text into ALL applicable emotion labels from this list: {\", \".join(dataset.labels)}. \n",
    "\"\"\"\n",
    "user_pre_prompt = f\"\"\"\n",
    "From this text, select the predominant emotions and respond with the final comma-separated predominant emotion names only:\n",
    "\"\"\""
   ]
  },
  {
   "cell_type": "code",
   "execution_count": null,
   "metadata": {},
   "outputs": [],
   "source": [
    "# Llama.cpp model evaluation\n",
    "prompt_template = PromptTemplate( system_prompt, user_pre_prompt )\n",
    "model = LlamaCppStrategy(\n",
    "    model_name = \"Phi-3.5-mini-instruct-Q4_K_M-zeroshot\",\n",
    "    model_path = \"models/Phi-3.5-mini-instruct-Q4_K_M.gguf\", \n",
    "    n_ctx = 1024,\n",
    "    prompt_template = prompt_template\n",
    ")\n",
    "classifier = EmotionClassifier(dataset, model)\n",
    "classifier.evaluate(verbose=True)\n",
    "report = classifier.create_performance_report(print_report=True)"
   ]
  },
  {
   "cell_type": "markdown",
   "metadata": {},
   "source": [
    "Phi 3.5 mini quantized - FEW SHOT"
   ]
  },
  {
   "cell_type": "code",
   "execution_count": 9,
   "metadata": {},
   "outputs": [],
   "source": [
    "user_pre_prompt = f\"\"\"Classify sentiment based on these examples:\n",
    "\n",
    "Text: [NAME], loved the story. Personally I don’t think this was petty I think it was quite fair and right. Good job dude.\n",
    "Emotions: admiration, love\n",
    "\n",
    "Text: Oh that's right they just came back from the vacation. This is a vacation business trip. What a fuckin' joke.\n",
    "Emotions: amusement\n",
    "\n",
    "Text: Players like this makes me rage quit tbh.\n",
    "Emotions: anger, annoyance\n",
    "\n",
    "Text: If you had a giant rock on your land, and you couldn't stop people climbing, wouldn't you be pissed?\n",
    "Emotions: annoyance, confusion, curiosity\n",
    "\n",
    "Text: This very thing got me diagnosed as ADD. I'm of the drugs now and feeling way much better. \n",
    "Emotions: approval, relief\n",
    "\n",
    "Text: Get rid. This is a toxic relationship that is making you unhappy. You are making all efforts for nothing in return.\n",
    "Emotions: caring, realization\n",
    "\n",
    "Text: Isn't it the same thing? Or at least equally bad?\n",
    "Emotions: confusion\n",
    "\n",
    "Text: It's great that you're a recovering addict, that's cool. Have you ever tried DMT?\n",
    "Emotions: curiosity, admiration\n",
    "\n",
    "Text: I know. And it's very selfish of me to say, but I just wish it was different people that cared.\n",
    "Emotions: desire\n",
    "\n",
    "Text: It's really very upsetting to have parents who dismiss this condition.\n",
    "Emotions: disappointment\n",
    "\n",
    "Text: We got nowhere with that because you only drop one-liners and refuse to actually engage.\n",
    "Emotions: disapproval\n",
    "\n",
    "Text: Apparently, he can't just have sex with anyone because he needed to rape someone.\n",
    "Emotions: disgust\n",
    "\n",
    "Text: I was teased for being a virgin when I was a 6th grader- in 2005\n",
    "Emotions: embarrassment\n",
    "\n",
    "Text: I’d love to get an update on what happened! (When you are ready)\n",
    "Emotions: excitement, love\n",
    "\n",
    "Text: I've also heard that intriguing but also kinda scary\n",
    "Emotions: fear\n",
    "\n",
    "Text: I didn't know that, thank you for teaching me something today!\n",
    "Emotions: gratitude\n",
    "\n",
    "Text: [NAME] death is just so..... senseless. Why? WHY??? The based gods have forsaken us\n",
    "Emotions: grief\n",
    "\n",
    "Text: A surprise turn of events! I'm so glad you heard such great things about yourself!\n",
    "Emotions: joy, surprise\n",
    "\n",
    "Text: I need to just eliminate anxiety and not have cravings\n",
    "Emotions: nervousness\n",
    "\n",
    "Text: I'm going to hold out hope for something minor even though it looked really bad. Just going to wait for the official news.\n",
    "Emotions: optimism\n",
    "\n",
    "Text: Of course I love myself because I'm awesome.\n",
    "Emotions: pride\n",
    "\n",
    "Text: Oh yeah, I forgot about the mean one.\n",
    "Emotions: realization\n",
    "\n",
    "Text: Resetting a dislocated knee hurts like hell but it feels a lot better immediately after.\n",
    "Emotions: relief\n",
    "\n",
    "Text: I sincerely apologize...I’ll delete and please take this upvote\n",
    "Emotions: remorse\n",
    "\n",
    "Text: It's hard to make friends. :( I sit alone.\n",
    "Emotions: sadness\n",
    "\n",
    "Text: I can’t believe that’s real\n",
    "Emotions: surprise\n",
    "\n",
    "Text: I'd say it's pretty uncommon now.\n",
    "Emotions: neutral\n",
    "\n",
    "Text: \n",
    "\"\"\""
   ]
  },
  {
   "cell_type": "code",
   "execution_count": null,
   "metadata": {},
   "outputs": [],
   "source": [
    "# Llama.cpp model evaluation\n",
    "prompt_template = PromptTemplate( system_prompt, user_pre_prompt )\n",
    "model = LlamaCppStrategy(\n",
    "    model_name = \"Phi-3.5-mini-instruct-Q4_K_M-few_shot\",\n",
    "    model_path = \"models/Phi-3.5-mini-instruct-Q4_K_M.gguf\", \n",
    "    prompt_template = prompt_template\n",
    ")\n",
    "classifier = EmotionClassifier(dataset, model)\n",
    "classifier.evaluate(verbose=True)\n",
    "report = classifier.create_performance_report(print_report=True)"
   ]
  },
  {
   "cell_type": "markdown",
   "metadata": {},
   "source": [
    "DeepSeek R1 Distill Qwen 1.5B quantized zero-shot"
   ]
  },
  {
   "cell_type": "code",
   "execution_count": 11,
   "metadata": {},
   "outputs": [],
   "source": [
    "# As indicated in the DeepSeek R1 Distill Qwen 1.5B model, we shouldn't add a system prompt because it was trained without it, it'd only add noise\n",
    "system_prompt = \"\"\n",
    "user_pre_prompt = f\"\"\"\n",
    "You are an assistant that classifies text into ALL applicable emotions from: {\", \".join(dataset.labels)}. \n",
    "From this text, select the predominant emotions and respond with the final comma-separated predominant emotion names only:\n",
    "\"\"\""
   ]
  },
  {
   "cell_type": "code",
   "execution_count": null,
   "metadata": {},
   "outputs": [],
   "source": [
    "prompt_template = PromptTemplate( system_prompt, user_pre_prompt )\n",
    "model = LlamaCppStrategy(\n",
    "    model_name = \"DeepSeek-R1-Distill-Qwen-1.5B-Q8_0-zero_shot\",\n",
    "    model_path = \"models/DeepSeek-R1-Distill-Qwen-1.5B-Q8_0.gguf\",\n",
    "    prompt_template = prompt_template\n",
    ")"
   ]
  },
  {
   "cell_type": "markdown",
   "metadata": {},
   "source": [
    "Gemma 2 2B quantized zero-shot"
   ]
  },
  {
   "cell_type": "code",
   "execution_count": 12,
   "metadata": {},
   "outputs": [],
   "source": [
    "system_prompt = f\"\"\"\n",
    "You are an assistant that classifies text into ALL applicable emotions from: {\", \".join(dataset.labels)}. \n",
    "\"\"\"\n",
    "user_pre_prompt = f\"\"\"\n",
    "From this text, select the predominant emotions and respond with the final comma-separated predominant emotion names only:\n",
    "\"\"\""
   ]
  },
  {
   "cell_type": "code",
   "execution_count": null,
   "metadata": {},
   "outputs": [],
   "source": [
    "prompt_template = PromptTemplate( system_prompt, user_pre_prompt )\n",
    "model = LlamaCppStrategy(\n",
    "    model_name = \"gemma2-2b-zero_shot\",\n",
    "    model_path = \"models/dolphin-2.9.4-gemma2-2b-Q6_K_L.gguf\",\n",
    "    prompt_template = prompt_template\n",
    ")\n",
    "classifier = EmotionClassifier(dataset, model)\n",
    "classifier.evaluate(verbose=True)\n",
    "report = classifier.create_performance_report(print_report=True)"
   ]
  },
  {
   "cell_type": "markdown",
   "metadata": {},
   "source": [
    "## Print results"
   ]
  },
  {
   "cell_type": "code",
   "execution_count": null,
   "metadata": {},
   "outputs": [],
   "source": [
    "model_report = model.create_performance_report(print_report=True)"
   ]
  },
  {
   "cell_type": "markdown",
   "metadata": {},
   "source": [
    "## Inference and model testing"
   ]
  },
  {
   "cell_type": "code",
   "execution_count": null,
   "metadata": {},
   "outputs": [],
   "source": [
    "sentiment_template = f\"Respond to this message only replying with the single emotion label you can detect from these emotion labels: {model.dataset_labels} for the following piece of text: \"\n",
    "model.run_inference(sentiment_template + \"My mom said she wants me to go and never return back again\")"
   ]
  }
 ],
 "metadata": {
  "language_info": {
   "name": "python"
  }
 },
 "nbformat": 4,
 "nbformat_minor": 2
}
