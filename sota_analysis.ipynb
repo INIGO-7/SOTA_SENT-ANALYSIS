{
 "cells": [
  {
   "cell_type": "markdown",
   "metadata": {},
   "source": [
    "# SOTA INVESTIGATION FOR SENTIMENT ANALYSIS"
   ]
  },
  {
   "cell_type": "markdown",
   "metadata": {},
   "source": [
    "## Load resources"
   ]
  },
  {
   "cell_type": "code",
   "execution_count": null,
   "metadata": {},
   "outputs": [],
   "source": [
    "from emotion_classifier import *\n",
    "import os"
   ]
  },
  {
   "cell_type": "code",
   "execution_count": 2,
   "metadata": {},
   "outputs": [],
   "source": [
    "with open(os.path.join(\"secrets\", \"credentials.txt\"), \"r\") as file:\n",
    "    for line in file.readlines():\n",
    "        key, value = line.split(\":\")\n",
    "\n",
    "        if key == \"huggingface\":\n",
    "            access_token = value"
   ]
  },
  {
   "cell_type": "markdown",
   "metadata": {},
   "source": [
    "## Execute experiments"
   ]
  },
  {
   "cell_type": "code",
   "execution_count": null,
   "metadata": {},
   "outputs": [],
   "source": [
    "available_datasets = list(DatasetHandler.DATASET_CONFIGS.keys())\n",
    "print(f\"The available datasets are: {available_datasets}\")"
   ]
  },
  {
   "cell_type": "code",
   "execution_count": null,
   "metadata": {},
   "outputs": [],
   "source": [
    "print(\"Available templates:\")\n",
    "PromptTemplate.TEMPLATES"
   ]
  },
  {
   "cell_type": "markdown",
   "metadata": {},
   "source": [
    "### GO_EMOTIONS"
   ]
  },
  {
   "cell_type": "code",
   "execution_count": 4,
   "metadata": {},
   "outputs": [],
   "source": [
    "dataset = DatasetHandler(\"go_emotions\", \"test\")"
   ]
  },
  {
   "cell_type": "markdown",
   "metadata": {},
   "source": [
    "RoBERTa Fine-tuned with go_emotions"
   ]
  },
  {
   "cell_type": "code",
   "execution_count": null,
   "metadata": {},
   "outputs": [],
   "source": [
    "# Transformers model evaluation\n",
    "model = TransformersStrategy(\"SamLowe/roberta-base-go_emotions\")\n",
    "classifier = EmotionClassifier(dataset, model)\n",
    "\n",
    "classifier.evaluate()\n",
    "_ = classifier.create_performance_report(print_report=True)"
   ]
  },
  {
   "cell_type": "markdown",
   "metadata": {},
   "source": [
    "Phi 3.5 mini quantized - ZERO SHOT"
   ]
  },
  {
   "cell_type": "code",
   "execution_count": 7,
   "metadata": {},
   "outputs": [],
   "source": [
    "system_prompt = f\"\"\"\n",
    "You are an assistant that classifies text into ALL applicable emotions from: {\", \".join(dataset.labels)}. \n",
    "\"\"\"\n",
    "user_pre_prompt = f\"\"\"\n",
    "From this text, select the predominant emotions and respond with the final comma-separated predominant emotion names only:\n",
    "\"\"\""
   ]
  },
  {
   "cell_type": "code",
   "execution_count": null,
   "metadata": {},
   "outputs": [],
   "source": [
    "# Llama.cpp model evaluation\n",
    "prompt_template = PromptTemplate( \"llama\", system_prompt, user_pre_prompt )\n",
    "model = LlamaCppStrategy(\n",
    "    model_name = \"Phi-3.5-mini-instruct-Q4_K_M\",\n",
    "    model_path = \"models/Phi-3.5-mini-instruct-Q4_K_M.gguf\", \n",
    "    n_ctx = 4096,\n",
    "    prompt_template = prompt_template\n",
    ")\n",
    "classifier = EmotionClassifier(dataset, model)\n",
    "classifier.evaluate(verbose=True)\n",
    "report = classifier.create_performance_report(print_report=True)"
   ]
  },
  {
   "cell_type": "markdown",
   "metadata": {},
   "source": [
    "Phi 3.5 mini quantized - FEW SHOT"
   ]
  },
  {
   "cell_type": "code",
   "execution_count": 9,
   "metadata": {},
   "outputs": [],
   "source": [
    "user_pre_prompt = f\"\"\"Classify sentiment based on these examples:\n",
    "\n",
    "Text: It's wonderful because it's awful. At not with.\n",
    "Emotions: admiration\n",
    "\n",
    "Text: Lol! But I love your last name though. XD\n",
    "Emotions: amusement, love\n",
    "\n",
    "Text: Eff your video - love Canada 🇨🇦 Stupid geolock\n",
    "Emotions: anger, annoyance\n",
    "\n",
    "Text: [NAME] has towed the line of the Dark Side. He wouldn't cross it by doing something like this.\n",
    "Emotions: annoyance, disapproval\n",
    "\n",
    "Text: i mean, yeah tbh.\n",
    "Emotions: approval, neutral\n",
    "\n",
    "Text: please dont bring a woman in as a sex toy for you both. hire a sex worker instead\n",
    "Emotions: caring\n",
    "\n",
    "Text: Watch Vegan Gains’ video on that, he had it when he was like 13, highly doubt he was juicing then\n",
    "Emotions: confusion, neutral\n",
    "\n",
    "Text: It's great that you're a recovering addict, that's cool. Have you ever tried DMT?\n",
    "Emotions: admiration, curiosity\n",
    "\n",
    "Text: Translation. I wish I could afford it.\n",
    "Emotions: desire\n",
    "\n",
    "Text: Crap. I need more Excedrin. STAT.\n",
    "Emotions: disappointment\n",
    "\n",
    "Text: This sounds an awful lot like khorne......\n",
    "Emotions: disgust\n",
    "\n",
    "Text: I was teased for being a virgin when I was a 6th grader- in 2005\n",
    "Emotions: embarrassment\n",
    "\n",
    "Text: Kings fan here, good luck to you guys! Will be an interesting game to watch!\n",
    "Emotions: excitement\n",
    "\n",
    "Text: I've also heard that intriguing but also kinda scary\n",
    "Emotions: fear\n",
    "\n",
    "Text: I didn't know that, thank you for teaching me something today!\n",
    "Emotions: gratitude\n",
    "\n",
    "Text: [NAME] death is just so..... senseless. Why? WHY??? The based gods have forsaken us\n",
    "Emotions: grief\n",
    "\n",
    "Text: A surprise turn of events! I'm so glad you heard such great things about yourself!\n",
    "Emotions: joy, surprise\n",
    "\n",
    "Text: I got a lot of withholding to throw me into anxiety.\n",
    "Emotions: nervousness\n",
    "\n",
    "Text: I'm going to hold out hope for something minor even though it looked really bad. Just going to wait for the official news.\n",
    "Emotions: optimism\n",
    "\n",
    "Text: I only eat cronuts cuz I'm sophisticated!\n",
    "Emotions: pride\n",
    "\n",
    "Text: Some great advice right here!!!!!! I forgot about this\n",
    "Emotions: admiration, realization\n",
    "\n",
    "Text: Resetting a dislocated knee hurts like hell but it feels a lot better immediately after.\n",
    "Emotions: relief\n",
    "\n",
    "Text: I’m sorry to hear that friend :(. It’s for the best most likely if she didn’t accept you for who you are\n",
    "Emotions: remorse\n",
    "\n",
    "Text: I’m really sorry about your situation :( Although I love the names Sapphira, Cirilla, and Scarlett!\n",
    "Emotions: sadness\n",
    "\n",
    "Text: They got bored from haunting earth for thousands of years and ultimately moved on to the afterlife.\n",
    "Emotions: neutral\n",
    "\n",
    "Text: \n",
    "\"\"\""
   ]
  },
  {
   "cell_type": "code",
   "execution_count": null,
   "metadata": {},
   "outputs": [],
   "source": [
    "# Llama.cpp model evaluation\n",
    "prompt_template = PromptTemplate( \"llama\", system_prompt, user_pre_prompt)\n",
    "model = LlamaCppStrategy(\n",
    "    model_name = \"Phi-3.5-mini-instruct-Q4_K_M-few_shot\",\n",
    "    model_path = \"models/Phi-3.5-mini-instruct-Q4_K_M.gguf\", \n",
    "    n_ctx = 4096,\n",
    "    prompt_template = prompt_template\n",
    ")\n",
    "classifier = EmotionClassifier(dataset, model)\n",
    "classifier.evaluate(verbose=True)\n",
    "report = classifier.create_performance_report(print_report=True)"
   ]
  },
  {
   "cell_type": "markdown",
   "metadata": {},
   "source": [
    "## Print results"
   ]
  },
  {
   "cell_type": "code",
   "execution_count": null,
   "metadata": {},
   "outputs": [],
   "source": [
    "model_report = model.create_performance_report(print_report=True)"
   ]
  },
  {
   "cell_type": "markdown",
   "metadata": {},
   "source": [
    "## Inference and model testing"
   ]
  },
  {
   "cell_type": "code",
   "execution_count": null,
   "metadata": {},
   "outputs": [],
   "source": [
    "sentiment_template = f\"Respond to this message only replying with the single emotion label you can detect from these emotion labels: {model.dataset_labels} for the following piece of text: \"\n",
    "model.run_inference(sentiment_template + \"My mom said she wants me to go and never return back again\")"
   ]
  }
 ],
 "metadata": {
  "language_info": {
   "name": "python"
  }
 },
 "nbformat": 4,
 "nbformat_minor": 2
}
